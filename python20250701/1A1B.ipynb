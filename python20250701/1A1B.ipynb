{
 "cells": [
  {
   "cell_type": "code",
   "execution_count": 3,
   "id": "778cd1bc-3d51-43bf-9ef4-45855ba754bd",
   "metadata": {},
   "outputs": [
    {
     "name": "stdout",
     "output_type": "stream",
     "text": [
      "歡迎來玩 1A1B 猜數字遊戲！\n",
      "我有一個 4 位數（數字不重複），你來猜猜看！\n",
      "答案： 6714\n"
     ]
    },
    {
     "name": "stdin",
     "output_type": "stream",
     "text": [
      "請輸入4位數字： 6147\n"
     ]
    },
    {
     "name": "stdout",
     "output_type": "stream",
     "text": [
      "1A3B\n"
     ]
    },
    {
     "name": "stdin",
     "output_type": "stream",
     "text": [
      "請輸入4位數字： 6714\n"
     ]
    },
    {
     "name": "stdout",
     "output_type": "stream",
     "text": [
      "4A0B\n",
      "恭喜你答對了！總共猜了 2 次。\n"
     ]
    }
   ],
   "source": [
    "import random\n",
    "\n",
    "# 產生一個4位數且不重複的答案\n",
    "def generate_answer():\n",
    "    numbers = list(\"0123456789\")\n",
    "    answer = random.sample(numbers, 4)\n",
    "    return \"\".join(answer)\n",
    "\n",
    "# 計算幾A幾B\n",
    "def get_hint(answer, guess):\n",
    "    A = 0  # 數字和位置都對\n",
    "    B = 0  # 數字對但位置錯\n",
    "    for i in range(4):\n",
    "        if guess[i] == answer[i]:\n",
    "            A += 1\n",
    "        elif guess[i] in answer:\n",
    "            B += 1\n",
    "    return A, B\n",
    "\n",
    "def main():\n",
    "    print(\"歡迎來玩 1A1B 猜數字遊戲！\")\n",
    "    print(\"我有一個 4 位數（數字不重複），你來猜猜看！\")\n",
    "    answer = generate_answer()\n",
    "    print(\"答案：\", answer)  # 教學時可先打開測試答案\n",
    "\n",
    "    tries = 0\n",
    "    while True:\n",
    "        guess = input(\"請輸入4位數字：\")\n",
    "        if len(guess) != 4 or not guess.isdigit():\n",
    "            print(\"請輸入4個不重複的數字！\")\n",
    "            continue\n",
    "        if len(set(guess)) != 4:\n",
    "            print(\"數字不能重複喔！\")\n",
    "            continue\n",
    "        tries += 1\n",
    "        A, B = get_hint(answer, guess)\n",
    "        print(f\"{A}A{B}B\")\n",
    "        if A == 4:\n",
    "            print(f\"恭喜你答對了！總共猜了 {tries} 次。\")\n",
    "            break\n",
    "\n",
    "main()"
   ]
  },
  {
   "cell_type": "code",
   "execution_count": 7,
   "id": "8c1b00c3-87b5-4099-81b9-bf833b9b6d15",
   "metadata": {},
   "outputs": [
    {
     "name": "stdout",
     "output_type": "stream",
     "text": [
      "['0', '1', '2', '3', '4', '5', '6', '7', '8', '9']\n"
     ]
    },
    {
     "data": {
      "text/plain": [
       "'1394'"
      ]
     },
     "execution_count": 7,
     "metadata": {},
     "output_type": "execute_result"
    }
   ],
   "source": [
    "import random\n",
    "\n",
    "# 產生一個4位數且不重複的答案\n",
    "def generate_answer():\n",
    "    numbers = list(\"0123456789\")\n",
    "    print(numbers)\n",
    "    answer = random.sample(numbers, 4)\n",
    "    return \"\".join(answer)\n",
    "generate_answer()"
   ]
  },
  {
   "cell_type": "code",
   "execution_count": 9,
   "id": "f87e5366-520b-4fb1-ace3-7d60e6d0618a",
   "metadata": {},
   "outputs": [
    {
     "name": "stdout",
     "output_type": "stream",
     "text": [
      "False\n"
     ]
    }
   ],
   "source": [
    "print(\"5\" in \"1234\") "
   ]
  },
  {
   "cell_type": "code",
   "execution_count": 16,
   "id": "39710a6f-6253-4c2f-892a-bb0dd9f173f4",
   "metadata": {},
   "outputs": [
    {
     "name": "stdout",
     "output_type": "stream",
     "text": [
      "3\n"
     ]
    }
   ],
   "source": [
    "myList = [1,2,3,3]\n",
    "print(len(set(myList)))"
   ]
  },
  {
   "cell_type": "code",
   "execution_count": null,
   "id": "9b4b1e6c-540c-4b18-8cf5-81ff7e0896cb",
   "metadata": {},
   "outputs": [],
   "source": []
  }
 ],
 "metadata": {
  "kernelspec": {
   "display_name": "Python 3 (ipykernel)",
   "language": "python",
   "name": "python3"
  },
  "language_info": {
   "codemirror_mode": {
    "name": "ipython",
    "version": 3
   },
   "file_extension": ".py",
   "mimetype": "text/x-python",
   "name": "python",
   "nbconvert_exporter": "python",
   "pygments_lexer": "ipython3",
   "version": "3.11.9"
  }
 },
 "nbformat": 4,
 "nbformat_minor": 5
}
