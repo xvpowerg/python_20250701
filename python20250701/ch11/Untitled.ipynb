{
 "cells": [
  {
   "cell_type": "code",
   "execution_count": 4,
   "id": "480b9bca-17e5-464c-afd7-8ec26669c26c",
   "metadata": {},
   "outputs": [],
   "source": [
    "import openai"
   ]
  },
  {
   "cell_type": "markdown",
   "id": "399b798b-3755-42d1-bc90-d7f7aff5f557",
   "metadata": {},
   "source": [
    "安裝openai\n",
    "pip install --upgrade openai"
   ]
  },
  {
   "cell_type": "markdown",
   "id": "99ef566d-d633-44e1-b4f8-ac51d7001dfa",
   "metadata": {},
   "source": [
    "# ChatGPT prompt"
   ]
  },
  {
   "cell_type": "markdown",
   "id": "80df7b2f-acbc-46ab-9d75-f897a58faeff",
   "metadata": {},
   "source": [
    "也可提取地名\n",
    "\n",
    "幫我找出人名:\n",
    "\n",
    "輸出格式:姓名用,隔開\n",
    "\n",
    "input:國民黨主席朱立倫日前表示本周推出國民黨總統參選人，預計十七日在中常會徵召。支持鴻海創辦人郭台銘的國民黨立委陳玉珍昨天表示，徵召必須取得中常委共識並在中常會通過。陳的談話引發其他中常委不滿，支持新北市長侯友宜與支持郭台銘的中常委，本周三將交鋒。\n",
    "陳玉珍：三分之二中常委挺郭\n",
    "郭台銘胞弟、正崴精密董事長郭台強昨天邀約挺郭的國民黨中常委餐敘，與會者轉述，昨天有十位中常委出席。出席餐敘的陳玉珍稱，有三分之二的中常委支持郭台銘，郭是適合被徵召的人選；她表示徵召的人選要經過國民黨最高權力機構中常會通過，十七日徵召當天要取得中常委的共識。\n",
    "國民黨中常委沈智慧表示，以國民黨的程序，徵召要由中常會通過，期待朱立倫能提出理想中最強的參選人。沈智慧表示，過半中常委支持郭台銘，如果最後徵召侯友宜，很多中常委會「表達意見」。\n",
    "\n",
    "\n",
    "朱立倫, 郭台銘, 陳玉珍, 郭台強, 沈智慧, 侯友宜"
   ]
  },
  {
   "cell_type": "markdown",
   "id": "3a956efc-c13a-43d3-94eb-5b045833c771",
   "metadata": {},
   "source": [
    "## Josn輸出"
   ]
  },
  {
   "cell_type": "markdown",
   "id": "5d40136d-08ed-47b5-b0d8-2b035e315d06",
   "metadata": {},
   "source": [
    "輸出全世界最多人口5個國家\r\n",
    "輸出:使用Josn key為國家名稱 value為人口數\n",
    "\r\n",
    "\r\n",
    " {\r\n",
    "\"中國\": 1444216107,\r\n",
    "\"印度\": 1393409038,\r\n",
    "\"美國\": 332915073,\r\n",
    "\"印尼\": 276361783,\r\n",
    "\"巴基斯坦\": 225199937\r\n",
    "}   "
   ]
  },
  {
   "cell_type": "markdown",
   "id": "366bf3f5-2cbf-43ce-b83e-8d9e2f89202a",
   "metadata": {},
   "source": [
    "## 總結\n",
    "\n",
    "幫我總結以下文字:\r\n",
    "\r\n",
    "Input:希臘版本的故事描述一名樵夫不小心讓自己的斧頭掉進河裡，失去生財工具的樵夫嚎啕大哭，河中的荷米斯憐憫他，便拿出一把金斧頭，問：「你掉的是這把金斧嗎？」樵夫回答「不是」，荷米斯再拿出一把銀斧問了同樣的問題，而樵夫也誠實回答，直到荷米斯拿出樵夫自己的斧頭時，樵夫才表示那是自己的斧頭。荷米斯認為樵夫很誠實，便將三把斧頭都賞給他。\r\n",
    "樵夫的鄰居聽到這件事後很羨慕，他故意把自己的斧頭丟進河裡並佯裝哭泣，當荷米斯出現並詢問他是否掉了金斧頭時，那個鄰居回答「是的」，荷米斯回到河裡再也沒有出現，貪婪的鄰居連自己的斧頭都沒有取回。"
   ]
  },
  {
   "cell_type": "markdown",
   "id": "5854b5df-2308-4422-8bcf-e75ad3737c67",
   "metadata": {},
   "source": [
    "## 情緒分析\n",
    "下面文字情緒是正面還是負面?\r\n",
    "input:原作金属质感的圣衣到真人版电影给换成了皮革甲、不伦不类的元素插入、网游CG质感、\r\n",
    "    过时的打斗分镜和特效等各种因素铸造了意料之内的扑街，这片要是能放在09年和真人版《七龙珠》和\r\n",
    "    《街头霸王：春丽传奇》这俩烂片能分个伯仲，放到现在连前年的《真人快打》都不如！ 后记：脚踏多条船、偷腥人妻、\r\n",
    "    涉黑和雇凶杀人未遂的新田真剑佑居然到现在都没凉，老爸千叶真一又去世了，到底是什么资本和势力在背后给他洗\n",
    "\n",
    "下面文字情緒是正面或負面?\r\n",
    "輸出格式:輸出為數字 正面輸出1 負面輸出0\r\n",
    "Input:这才是漫威！《复联4》后最佳！笑着笑着就流泪…银护浓味相当冲，沙雕逗比浓度相当高，笑料足，动作场面够大也精彩，但最让人动容的不是这些，而是让人泪目的细节：一个小蓝人出现，许多人鼓掌，那是粉丝最喜欢和怀恋的角色之一；一声奇怪的猴叫，是一位硬汉父亲的柔软，和我们从未见过的父女美好时光；一句“嗯”，是跨越多元宇宙的姐妹情；一个纳米科技手臂，是钢铁侠的遗产；一个尴尬的拥抱，是没有血缘关系的家人；一只被捡起的小浣熊，是曾经几条怪胎生命的抱团取暖，和现在的一个都不能少；一句“我爱你们”，是别人都听不懂的IamGroot，如今你却能听懂他每句的含义。他们来自宇宙中各个角落的三流角色，是怪胎，但聚在一起，他们是会为了对方牺牲一切的一家人。这样的系列结局，作为粉丝我很满意。感谢这帮逗比，I am Groot！    底撑腰？"
   ]
  },
  {
   "cell_type": "code",
   "execution_count": 1,
   "id": "11faefb2-1e3c-461e-987f-2ad0abd2ab3d",
   "metadata": {},
   "outputs": [],
   "source": [
    "import openai\n",
    "## 這個apikey下課後無法使用\n",
    "apikey = \"\""
   ]
  },
  {
   "cell_type": "code",
   "execution_count": 2,
   "id": "e744b527-f007-4803-a9c0-b494328bc56b",
   "metadata": {},
   "outputs": [
    {
     "name": "stdout",
     "output_type": "stream",
     "text": [
      "\n"
     ]
    }
   ],
   "source": [
    "print(apikey)"
   ]
  },
  {
   "cell_type": "code",
   "execution_count": 17,
   "id": "71b31dd3-a1fb-4fd0-8d21-2ac316cfc190",
   "metadata": {},
   "outputs": [
    {
     "name": "stdout",
     "output_type": "stream",
     "text": [
      "當然可以！拉不拉多是一種非常友善又聰明的狗狗，下面是幾個可愛又適合拉不拉多的名字供你參考：\n",
      "\n",
      "1. **樂樂** — 表示快樂、活潑。\n",
      "2. **阿布** — 簡單又親切的名字。\n",
      "3. **小熊** — 因為拉不拉多毛茸茸的，像小熊一樣可愛。\n",
      "4. **豆豆** — 可愛又活潑的感覺。\n",
      "5. **旺仔** — 帶有旺盛、熱情的意味。\n",
      "6. **巧克力** — 如果是巧克力色的拉不拉多，這名字很適合。\n",
      "7. **布丁** — 味道甜美又討喜。\n",
      "8. **大黃** — 如果是黃色的拉不拉多，這名字簡單\n"
     ]
    }
   ],
   "source": [
    "import openai\n",
    "openai.api_key = apikey\n",
    "messages = [\n",
    "    {\"role\": \"user\", \"content\": \"我有一隻小狗幫我取名子 品種:拉不拉多:\"}\n",
    "]\n",
    "response = openai.chat.completions.create(\n",
    "    model=\"gpt-4.1-mini\",    \n",
    "    messages=messages,\n",
    "    max_tokens=200,\n",
    ")\n",
    "print(response.choices[0].message.content)"
   ]
  },
  {
   "cell_type": "code",
   "execution_count": 18,
   "id": "7d581e48-074e-4e68-bb6c-8fd51c3475ed",
   "metadata": {},
   "outputs": [
    {
     "name": "stdout",
     "output_type": "stream",
     "text": [
      "{\n",
      "  \"中國\": 1412600000,\n",
      "  \"印度\": 1380004385,\n",
      "  \"美國\": 331893745,\n",
      "  \"印尼\": 273523621,\n",
      "  \"巴基斯坦\": 220892331\n",
      "}\n",
      "{\n",
      "  \"中國\": 1412600000,\n",
      "  \"印度\": 1380004385,\n",
      "  \"美國\": 331893745,\n",
      "  \"印尼\": 273523621,\n",
      "  \"巴基斯坦\": 220892331\n",
      "}\n",
      "中國: 1412600000\n",
      "印度: 1380004385\n",
      "美國: 331893745\n",
      "印尼: 273523621\n",
      "巴基斯坦: 220892331\n"
     ]
    }
   ],
   "source": [
    "import openai\n",
    "import json\n",
    "\n",
    "openai.api_key = apikey\n",
    "\n",
    "messages = [\n",
    "    {\n",
    "        \"role\": \"user\",\n",
    "        \"content\": \"請只輸出全世界最多人口5個國家的 Json（key為國家,value為人口數），不要任何多餘解釋，不要加```。\"\n",
    "    }\n",
    "]\n",
    "response = openai.chat.completions.create(\n",
    "    model=\"gpt-4.1-mini\",    \n",
    "    messages=messages,\n",
    "    max_tokens=300,\n",
    ")\n",
    "str_json = response.choices[0].message.content\n",
    "print(str_json)\n",
    "print(str_json.strip())#移除前後空白\n",
    "\n",
    "\n",
    "# 確保字串只含json，否則可能需要再清洗\n",
    "try:\n",
    "    json_obj = json.loads(str_json.strip())\n",
    "    for country  in json_obj:\n",
    "        print(f\"{country}: {json_obj[country]}\")\n",
    "except json.JSONDecodeError as e:\n",
    "    print(\"JSON 解析錯誤:\", e)\n",
    "    # 若有非純json內容，可考慮正則處理或用openai function call格式"
   ]
  },
  {
   "cell_type": "markdown",
   "id": "9a8b8a33-d5bb-41f0-bc0f-5e6e5ecb8e6b",
   "metadata": {},
   "source": [
    "## 聊天"
   ]
  },
  {
   "cell_type": "code",
   "execution_count": 19,
   "id": "a696e078-ced2-46ba-8a5d-e5304fd8a869",
   "metadata": {},
   "outputs": [
    {
     "name": "stdin",
     "output_type": "stream",
     "text": [
      "請輸入聊天內容(輸入 quit 離開):  8+3多少\n"
     ]
    },
    {
     "name": "stdout",
     "output_type": "stream",
     "text": [
      "Assistant: 8+3等于11。需要帮忙算其他的吗？\n"
     ]
    },
    {
     "name": "stdin",
     "output_type": "stream",
     "text": [
      "請輸入聊天內容(輸入 quit 離開):  quit\n"
     ]
    },
    {
     "name": "stdout",
     "output_type": "stream",
     "text": [
      "Assistant: 再見～\n"
     ]
    }
   ],
   "source": [
    "import openai\n",
    "import json\n",
    "openai.api_key = apikey\n",
    "messages = [{\"role\": \"system\", \"content\": \"你好!\"}]\n",
    "\n",
    "while True:\n",
    "        user_input = input(\"請輸入聊天內容(輸入 quit 離開): \")\n",
    "        if user_input.strip().lower() == \"quit\":\n",
    "            print(\"Assistant: 再見～\")\n",
    "            break\n",
    "        messages.append({\"role\": \"user\", \"content\": user_input})\n",
    "        \n",
    "        # 最新API寫法（2024.07測試）\n",
    "        response = openai.chat.completions.create(\n",
    "            model=\"gpt-4.1-mini\", \n",
    "            messages=messages\n",
    "        )\n",
    "        # 取內容\n",
    "        ai_message = response.choices[0].message.content\n",
    "        messages.append({\"role\": \"assistant\", \"content\": ai_message})\n",
    "        print(\"Assistant:\", ai_message)\n",
    "\n"
   ]
  },
  {
   "cell_type": "code",
   "execution_count": null,
   "id": "21aaf957-f442-4a12-9876-ad021d102602",
   "metadata": {},
   "outputs": [],
   "source": []
  }
 ],
 "metadata": {
  "kernelspec": {
   "display_name": "Python 3 (ipykernel)",
   "language": "python",
   "name": "python3"
  },
  "language_info": {
   "codemirror_mode": {
    "name": "ipython",
    "version": 3
   },
   "file_extension": ".py",
   "mimetype": "text/x-python",
   "name": "python",
   "nbconvert_exporter": "python",
   "pygments_lexer": "ipython3",
   "version": "3.11.9"
  }
 },
 "nbformat": 4,
 "nbformat_minor": 5
}
