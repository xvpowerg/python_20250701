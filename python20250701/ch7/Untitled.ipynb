{
 "cells": [
  {
   "cell_type": "code",
   "execution_count": 8,
   "id": "eb2456a1-8b0f-4f08-bdd4-f67a458e17ad",
   "metadata": {},
   "outputs": [
    {
     "name": "stdout",
     "output_type": "stream",
     "text": [
      "木瓜不存在List清單中\n"
     ]
    }
   ],
   "source": [
    "fruits = [\"西瓜\",\"蘋果\",\"香蕉\"]\n",
    "key = \"木瓜\"\n",
    "isIn = False #是否存在\n",
    "for i in range(len(fruits)):\n",
    "    if fruits[i] == key:\n",
    "        isIn = True#是否存在\n",
    "        print(f\"{key}在清單中的第{i}項\")\n",
    "        break\n",
    "if not isIn:\n",
    "    print(f\"{key}不存在List清單中\")"
   ]
  },
  {
   "cell_type": "code",
   "execution_count": 11,
   "id": "02c5a5c2-d024-475f-9c15-6dcc80cbd83f",
   "metadata": {},
   "outputs": [
    {
     "name": "stdout",
     "output_type": "stream",
     "text": [
      "蘋果在清單中的第1項\n"
     ]
    }
   ],
   "source": [
    "fruits = [\"西瓜\",\"蘋果\",\"香蕉\"]\n",
    "key = \"蘋果\"\n",
    "for i in range(len(fruits)):\n",
    "    if fruits[i] == key:\n",
    "        print(f\"{key}在清單中的第{i}項\")\n",
    "        break\n",
    "else: #    for 迴圈正常完成    \n",
    "    print(f\"{key}不存在List清單中\")"
   ]
  },
  {
   "cell_type": "code",
   "execution_count": 12,
   "id": "d6378543-93de-4f22-a8cd-ae549fa6a16c",
   "metadata": {},
   "outputs": [
    {
     "name": "stdout",
     "output_type": "stream",
     "text": [
      "{'ken': 100, 'vivin': 95, 'lucy': 72, 'gigi': 82}\n",
      "{'ken': 98, 'vivin': 75, 'lucy': 72, 'gigi': 82, 'iris': 88}\n"
     ]
    }
   ],
   "source": [
    "dict1 = {\"ken\":100,\"vivin\":95,\"lucy\":72}\n",
    "dict1.update({\"gigi\":82})\n",
    "print(dict1)\n",
    "dict1.update({\"vivin\":75,\"ken\":98,\"iris\":88})\n",
    "print(dict1)"
   ]
  },
  {
   "cell_type": "code",
   "execution_count": 14,
   "id": "11c56ca8-a6d3-416b-862b-d1ba0573a0d7",
   "metadata": {},
   "outputs": [
    {
     "name": "stdout",
     "output_type": "stream",
     "text": [
      "{'ken': 100, 'lucy': 72}\n",
      "{}\n"
     ]
    }
   ],
   "source": [
    "dict1 = {\"ken\":100,\"vivin\":95,\"lucy\":72}\n",
    "del dict1[\"vivin\"]\n",
    "print(dict1)\n",
    "dict1.clear()\n",
    "print(dict1)"
   ]
  },
  {
   "cell_type": "code",
   "execution_count": 17,
   "id": "b85f58f4-e2ee-4295-92c6-66b6f51fb822",
   "metadata": {},
   "outputs": [
    {
     "name": "stdout",
     "output_type": "stream",
     "text": [
      "b存在\n"
     ]
    }
   ],
   "source": [
    "dict3 = {\"a\":100,\"b\":200,\"c\":300}\n",
    "key = \"b\"\n",
    "if key in dict3:\n",
    "    print(f\"{key}存在\")\n",
    "else:\n",
    "    print(f\"{key}不存在\")"
   ]
  },
  {
   "cell_type": "markdown",
   "id": "6d5c1996-e723-4e2f-a54f-94a15529635d",
   "metadata": {},
   "source": [
    "## 自訂函式的運用\n",
    "\n",
    "#### 程式設計時儘量減少相同語法的重複出現，為什麼?\n",
    "\n",
    "修改時可能忘記其他地方沒有改，導致程式執行出現錯誤結果。\n",
    "\n",
    "減少重複語法對於之後的維修會比較方便。\n",
    "\n",
    "\n",
    "#### 要如何減少重複的相同語法?\n",
    "\n",
    "把重複的相同語法當作工具看待，需要的時候呼叫他。\n",
    "\n",
    "這種工具於程式語法內叫做函式(function)。\n"
   ]
  },
  {
   "cell_type": "code",
   "execution_count": 19,
   "id": "c286772e-1f84-4c66-84bf-ce7c8ebba689",
   "metadata": {},
   "outputs": [
    {
     "name": "stdout",
     "output_type": "stream",
     "text": [
      "被呼叫了!!\n",
      "被呼叫了!!\n",
      "被呼叫了!!\n"
     ]
    }
   ],
   "source": [
    "def func():\n",
    "    print(\"被呼叫了!!\")\n",
    "func()\n",
    "func() \n",
    "func() "
   ]
  },
  {
   "cell_type": "markdown",
   "id": "5e921dc0-4925-420f-887b-a476ce997cf4",
   "metadata": {},
   "source": [
    "### 自訂函數接收資料：\n",
    "\n",
    "傳入函數的參數放在 ( ) 內。\n",
    "\n",
    "可以接收多個，以逗點隔開。\n",
    "\n",
    "接收參數可以是變數，也可以是 list。\n",
    "\n",
    "函數若設定接收參數，呼叫函數時一定要給參數。\n",
    "\n",
    "接收參數可設定為不固定數量。\n",
    "\n",
    "若不接收則為空白。"
   ]
  },
  {
   "cell_type": "code",
   "execution_count": 20,
   "id": "cbd32216-a3d4-4658-bb82-768097252d6d",
   "metadata": {},
   "outputs": [
    {
     "name": "stdout",
     "output_type": "stream",
     "text": [
      "5\n"
     ]
    }
   ],
   "source": [
    "def funcSum(a,b):\n",
    "    c = a + b\n",
    "    print(c)\n",
    "funcSum(2,3)    "
   ]
  },
  {
   "cell_type": "code",
   "execution_count": 26,
   "id": "9b0217b7-25b1-4731-a4c1-917976f8b12a",
   "metadata": {},
   "outputs": [
    {
     "name": "stdout",
     "output_type": "stream",
     "text": [
      "1 2 3 4 5 6 7 8 9 10 \n",
      "2 3 4 5 6 7 8 \n",
      "5 6 7 8 9 10 11 12 "
     ]
    }
   ],
   "source": [
    "#使用迴圈產生1~10\n",
    "#1 2 3 4 5 6 7 8 9 10\n",
    "for i in range(1,11):\n",
    "    print(i,end=\" \")\n",
    "print()    \n",
    "#使用迴圈產生2~8\n",
    "for i in range(2,9):\n",
    "    print(i,end=\" \")\n",
    "print()    \n",
    "#使用迴圈產生5~12\n",
    "for i in range(5,13):\n",
    "    print(i,end=\" \")\n",
    "    "
   ]
  },
  {
   "cell_type": "code",
   "execution_count": 33,
   "id": "789c0646-a506-45a6-ad6b-5b46c963b509",
   "metadata": {},
   "outputs": [
    {
     "name": "stdout",
     "output_type": "stream",
     "text": [
      "1 2 3 4 5 6 7 8 9 10 \n",
      "2 3 4 5 6 7 8 \n",
      "5 6 7 8 9 10 11 12 \n"
     ]
    }
   ],
   "source": [
    "#使用函式完成迴圈\n",
    "def forloop(s,e):\n",
    "    for i in range(s,e+1):\n",
    "        print(i,end=\" \")\n",
    "    print()    \n",
    "forloop(1,10)\n",
    "forloop(2,8)\n",
    "forloop(5,12)"
   ]
  },
  {
   "cell_type": "code",
   "execution_count": 38,
   "id": "d450149c-8e17-45ba-a8d8-c2efc11ff2b7",
   "metadata": {},
   "outputs": [
    {
     "name": "stdout",
     "output_type": "stream",
     "text": [
      "25\n"
     ]
    }
   ],
   "source": [
    "def funcX(x):\n",
    "    result = x**2\n",
    "    return result\n",
    "def add(x,n):\n",
    "    print(x+n)\n",
    "v = funcX(5)    \n",
    "print(v)"
   ]
  },
  {
   "cell_type": "code",
   "execution_count": 40,
   "id": "96238a77-1a86-4671-b944-7d09b18bcb7d",
   "metadata": {},
   "outputs": [
    {
     "name": "stdout",
     "output_type": "stream",
     "text": [
      "(4, 6, 9)\n",
      "4 6 9\n"
     ]
    }
   ],
   "source": [
    "def func3(v1,v2,v3):\n",
    "    a1 = v1 + 2\n",
    "    a2 = v2 + 3\n",
    "    a3 = v3 + 4\n",
    "    return a1,a2,a3\n",
    "t =   func3(2,3,5)  \n",
    "print(t)\n",
    "x,y,z = func3(2,3,5)\n",
    "print(x,y,z)"
   ]
  },
  {
   "cell_type": "markdown",
   "id": "5f70fff7-b5b7-4617-a184-659d18899fa1",
   "metadata": {},
   "source": [
    "## 變數影響範圍\n",
    "+ 函數外的變數：\n",
    "  + 函數內可以顯示該變數內容\n",
    "  + 不屬於函數的區域內都可以使用\n",
    "+ 函數內的變數：\n",
    "  + 只在函數內產生效果，不會影響函數外的變數\n",
    "  + 若函數內沒有進行變數宣告而進行改變內容動作將會產生錯誤訊息!"
   ]
  },
  {
   "cell_type": "code",
   "execution_count": 42,
   "id": "df7186dc-4050-437d-9553-9e4cf75164f9",
   "metadata": {},
   "outputs": [
    {
     "name": "stdout",
     "output_type": "stream",
     "text": [
      "a: 5\n",
      "a: 5\n"
     ]
    }
   ],
   "source": [
    "a = 5\n",
    "def myFunc():\n",
    "    a = 10\n",
    "    \n",
    "print(\"a:\",a)    \n",
    "myFunc()\n",
    "print(\"a:\",a)    "
   ]
  },
  {
   "cell_type": "code",
   "execution_count": 43,
   "id": "0288fd4b-9087-4dcb-a49e-dc55fd2030f7",
   "metadata": {},
   "outputs": [
    {
     "name": "stdout",
     "output_type": "stream",
     "text": [
      "5\n"
     ]
    }
   ],
   "source": [
    "a = 5\n",
    "def myFunc():\n",
    "    print(a)\n",
    "myFunc()    "
   ]
  },
  {
   "cell_type": "markdown",
   "id": "f4ce15ff-f658-4db5-88df-1de076805e5e",
   "metadata": {},
   "source": [
    "# 函數其他用法\n",
    "## 預設參數"
   ]
  },
  {
   "cell_type": "code",
   "execution_count": 49,
   "id": "8c76c056-fd0d-4cce-b4b7-6f2508b4a656",
   "metadata": {},
   "outputs": [
    {
     "name": "stdout",
     "output_type": "stream",
     "text": [
      "name: Ken\n",
      "age: 15\n",
      "company: 未填寫\n",
      "\n",
      "name: Vivin\n",
      "age: 26\n",
      "company: 未填寫\n",
      "\n",
      "name: Lucy\n",
      "age: 26\n",
      "company: google\n",
      "\n"
     ]
    }
   ],
   "source": [
    "def printInfo(name,age,company=\"未填寫\"):#給預設值\n",
    "    print(\"name:\",name)\n",
    "    print(\"age:\",age)\n",
    "    print(\"company:\",company)\n",
    "    print()    \n",
    "printInfo(\"Ken\",15) \n",
    "printInfo(\"Vivin\",26)\n",
    "printInfo(\"Lucy\",26,\"google\") "
   ]
  },
  {
   "cell_type": "code",
   "execution_count": 61,
   "id": "78128b0e-d36e-49ba-b525-68303f980b7a",
   "metadata": {},
   "outputs": [
    {
     "name": "stdout",
     "output_type": "stream",
     "text": [
      "Name: Ken\n",
      "Age: 15\n",
      "\n",
      "Name: 25\n",
      "Age: Lucy\n",
      "\n",
      "Name: empty\n",
      "Age: 18\n",
      "\n",
      "Name: Joy\n",
      "Age: 23\n",
      "\n"
     ]
    }
   ],
   "source": [
    "def myFunc(name=\"empty\",age=20):\n",
    "    print(\"Name:\",name)\n",
    "    print(\"Age:\",age)\n",
    "    print()\n",
    "myFunc(\"Ken\",15)    \n",
    "myFunc(25,\"Lucy\")\n",
    "myFunc(age=18)#命名參數\n",
    "myFunc(name=\"Joy\", age=23)#只要使用參數名稱指定數值 就必須持續使用名稱指定數值"
   ]
  },
  {
   "cell_type": "markdown",
   "id": "a85babac-d751-4fcd-96e9-a5ddc64d5dbb",
   "metadata": {},
   "source": [
    "### 不固定接收數量\n",
    "\n",
    "( ) 內接收資料若是以 * 表示代表可以引入不定數量的參數：\n",
    "\n",
    "一個*代表以 tuple 的方式引入\n",
    "\n",
    "兩個*代表以 dict 的方式引入\n",
    "\n",
    "接收資料若需加入多個設定，這些設定請依照順序排列：\n",
    "\n",
    "第一個參數設定為接收值 \n",
    "\n",
    "第二個參數設定為初始值\n",
    "\n",
    "第三個參數設定為不固定值，可以是 tuple 或 dict 方式"
   ]
  },
  {
   "cell_type": "code",
   "execution_count": 68,
   "id": "3156c158-2ce5-42c4-858e-ee3f77f9c94a",
   "metadata": {},
   "outputs": [
    {
     "ename": "SyntaxError",
     "evalue": "positional argument follows keyword argument (2206693831.py, line 9)",
     "output_type": "error",
     "traceback": [
      "\u001b[1;36m  Cell \u001b[1;32mIn[68], line 9\u001b[1;36m\u001b[0m\n\u001b[1;33m    func1(v1=1,2,3,4)\u001b[0m\n\u001b[1;37m                    ^\u001b[0m\n\u001b[1;31mSyntaxError\u001b[0m\u001b[1;31m:\u001b[0m positional argument follows keyword argument\n"
     ]
    }
   ],
   "source": [
    "def func1(v1=\"v1\",v2=\"v2\",*data):\n",
    "    print(\"v1:\",v1)\n",
    "    print(\"v2:\",v2)\n",
    "    print(\"data:\",data)\n",
    "    print()\n",
    "func1(1)    \n",
    "func1(1,2)    \n",
    "func1(1,2,3)    \n",
    "func1(1,2,3,4)    "
   ]
  },
  {
   "cell_type": "code",
   "execution_count": 71,
   "id": "8159fde6-b603-49e3-baf9-834bd818599c",
   "metadata": {},
   "outputs": [
    {
     "name": "stdout",
     "output_type": "stream",
     "text": [
      "data: (1, 2, 3)\n",
      "v1: MyV1\n",
      "v2: v2\n",
      "\n",
      "data: (88, 99, 25)\n",
      "v1: v1\n",
      "v2: MyV2\n",
      "\n"
     ]
    }
   ],
   "source": [
    "def func2(*data,v1=\"v1\",v2=\"v2\"):\n",
    "    print(\"data:\",data)\n",
    "    print(\"v1:\",v1)\n",
    "    print(\"v2:\",v2)\n",
    "    print()\n",
    "func2(1,2,3,v1 = \"MyV1\")    \n",
    "func2(88,99,25,v2 = \"MyV2\")    "
   ]
  },
  {
   "cell_type": "code",
   "execution_count": 80,
   "id": "c3f50ff1-8b78-41c3-bb1e-e7d4a3d28e33",
   "metadata": {},
   "outputs": [
    {
     "name": "stdout",
     "output_type": "stream",
     "text": [
      "27\n",
      "5\n",
      "0\n"
     ]
    }
   ],
   "source": [
    "def sumDef(*args):\n",
    "    v = 0\n",
    "    for a in args:\n",
    "        v += a\n",
    "    return v\n",
    "x = sumDef(2,3,4,5,6,7)\n",
    "print(x)\n",
    "x = sumDef(2,3)\n",
    "print(x)\n",
    "x = sumDef()\n",
    "print(x)"
   ]
  },
  {
   "cell_type": "code",
   "execution_count": null,
   "id": "7186938b-728c-4d15-b820-ed01056be97c",
   "metadata": {},
   "outputs": [],
   "source": [
    "## 作業\n",
    "##完成一個函式 可傳入多筆資料 並找到最大值 可傳入的數字範圍一定是1~100\n",
    "#result = myMax(2,6,8,9,1,4)\n",
    "#print(result)"
   ]
  },
  {
   "cell_type": "code",
   "execution_count": null,
   "id": "d5ffc6d9-477f-4e9b-be57-dca3e3a104b8",
   "metadata": {},
   "outputs": [],
   "source": []
  }
 ],
 "metadata": {
  "kernelspec": {
   "display_name": "Python 3 (ipykernel)",
   "language": "python",
   "name": "python3"
  },
  "language_info": {
   "codemirror_mode": {
    "name": "ipython",
    "version": 3
   },
   "file_extension": ".py",
   "mimetype": "text/x-python",
   "name": "python",
   "nbconvert_exporter": "python",
   "pygments_lexer": "ipython3",
   "version": "3.11.9"
  }
 },
 "nbformat": 4,
 "nbformat_minor": 5
}
