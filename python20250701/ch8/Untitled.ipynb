{
 "cells": [
  {
   "cell_type": "code",
   "execution_count": 2,
   "id": "b3856df0-5dab-493f-8747-e9ec03a8ab9a",
   "metadata": {},
   "outputs": [
    {
     "name": "stdout",
     "output_type": "stream",
     "text": [
      "9\n"
     ]
    }
   ],
   "source": [
    "## 作業\n",
    "##完成一個函式 可傳入多筆資料 並找到最大值 可傳入的數字範圍一定是1~100\n",
    "def myMax(*data):\n",
    "    result = 0\n",
    "    for v in data:\n",
    "        if v > result:\n",
    "            result = v\n",
    "    return result        \n",
    "result = myMax(2,6,8,9,1,4)\n",
    "print(result)"
   ]
  },
  {
   "cell_type": "code",
   "execution_count": 4,
   "id": "8b367276-ba91-4638-ba01-dbfd4ea025b1",
   "metadata": {},
   "outputs": [
    {
     "name": "stdout",
     "output_type": "stream",
     "text": [
      "Name: Vivin\n",
      "Score: 80\n",
      "\n",
      "Name: Lucy\n",
      "Score: 75\n",
      "\n"
     ]
    }
   ],
   "source": [
    "def printInfo(name=\"Ken\",score=0):\n",
    "    print(\"Name:\",name)\n",
    "    print(\"Score:\",score)\n",
    "    print()\n",
    "printInfo(\"Vivin\",80)    \n",
    "printInfo(score=75,name=\"Lucy\")"
   ]
  },
  {
   "cell_type": "code",
   "execution_count": 5,
   "id": "30089bb7-eaa9-47e8-8161-aabcd3fe7c2f",
   "metadata": {},
   "outputs": [
    {
     "name": "stdout",
     "output_type": "stream",
     "text": [
      "value1: Gigi\n",
      "data: {}\n",
      "\n",
      "value1: Iris\n",
      "data: {'age': 25, 'height': 158}\n",
      "\n"
     ]
    }
   ],
   "source": [
    "def testFunc(value1=\"Empty\",**data):\n",
    "    print(\"value1:\",value1)\n",
    "    print(\"data:\",data)\n",
    "    print()\n",
    "testFunc(value1=\"Gigi\")    \n",
    "testFunc(value1=\"Iris\",age = 25,height=158)    "
   ]
  },
  {
   "cell_type": "code",
   "execution_count": 7,
   "id": "0c0fbbed-36de-4633-a5a3-13bf0376dc9a",
   "metadata": {},
   "outputs": [
    {
     "name": "stdout",
     "output_type": "stream",
     "text": [
      "[5, 8, 9, 1, 3]\n",
      "[1, 3, 5, 8, 9]\n",
      "[9, 8, 5, 3, 1]\n"
     ]
    }
   ],
   "source": [
    "myList = [5,8,9,1,3]\n",
    "print(myList)\n",
    "myList.sort()#小到大\n",
    "print(myList)\n",
    "myList.sort(reverse=True)#大到小\n",
    "print(myList)"
   ]
  },
  {
   "cell_type": "markdown",
   "id": "fd015fb8-fd32-4c5b-ade6-54b22391b131",
   "metadata": {},
   "source": [
    "## 匿名函數\r\n",
    "不需要定義函數名稱，只需要用到運算式或表達分析語法。\r\n",
    "\r\n",
    "Python使用lambda語法定義匿名函數。\r\n",
    "\r\n",
    "匿名函數是一個表達式或計算式，並不是一個執行流程區塊。\r\n",
    "\r\n",
    "匿名函數出現在一般函數不允許的地方，例如list裡面或著函數呼叫參數的位置。"
   ]
  },
  {
   "cell_type": "code",
   "execution_count": 8,
   "id": "cac942f9-d173-4d74-8db9-a161469016bd",
   "metadata": {},
   "outputs": [
    {
     "name": "stdout",
     "output_type": "stream",
     "text": [
      "4\n",
      "9\n",
      "16\n"
     ]
    }
   ],
   "source": [
    "def pow(x):\n",
    "    return x ** 2\n",
    "\n",
    "print(pow(2))#4\n",
    "print(pow(3))#9\n",
    "print(pow(4))#16"
   ]
  },
  {
   "cell_type": "code",
   "execution_count": 9,
   "id": "655e887c-60b5-4e2e-98dc-ab468500cdd4",
   "metadata": {},
   "outputs": [
    {
     "name": "stdout",
     "output_type": "stream",
     "text": [
      "4\n",
      "9\n",
      "16\n"
     ]
    }
   ],
   "source": [
    "pow2 = lambda x:x**2\n",
    "print(pow2(2))\n",
    "print(pow2(3))\n",
    "print(pow2(4))"
   ]
  },
  {
   "cell_type": "code",
   "execution_count": 11,
   "id": "fcda4527-9ea7-4883-b0c1-898dfdc02041",
   "metadata": {},
   "outputs": [
    {
     "name": "stdout",
     "output_type": "stream",
     "text": [
      "[3, 4, 5, 6, 7]\n"
     ]
    }
   ],
   "source": [
    "list3 = [1,2,3,4,5]\n",
    "for i in range(len(list3)):\n",
    "    list3[i]+=2\n",
    "print(list3)    "
   ]
  },
  {
   "cell_type": "code",
   "execution_count": 15,
   "id": "0a719dad-9c1a-497f-8f78-c493e0b19f7f",
   "metadata": {},
   "outputs": [
    {
     "name": "stdout",
     "output_type": "stream",
     "text": [
      "[3, 4, 5, 6, 7]\n"
     ]
    }
   ],
   "source": [
    "list3 = [1,2,3,4,5]\n",
    "mapObj = map(lambda x:x+2,list3)\n",
    "print(list(mapObj))"
   ]
  },
  {
   "cell_type": "code",
   "execution_count": 16,
   "id": "3b7b76f8-44cb-4c7c-84da-6f80a6bdfb95",
   "metadata": {},
   "outputs": [
    {
     "name": "stdout",
     "output_type": "stream",
     "text": [
      "[9, 16, 4, 25, 36]\n"
     ]
    }
   ],
   "source": [
    "list4 = [3,4,2,5,6]\n",
    "mapObj = map(lambda x:x**2,list4)\n",
    "print(list(mapObj))\n"
   ]
  },
  {
   "cell_type": "code",
   "execution_count": 18,
   "id": "e14d61f2-cd26-4728-999f-ce0e0b5858c2",
   "metadata": {},
   "outputs": [
    {
     "name": "stdout",
     "output_type": "stream",
     "text": [
      "2 4 6 8 "
     ]
    }
   ],
   "source": [
    "a = [1,2,3,4,5,6,7,8]\n",
    "#輸出所有的偶數\n",
    "for v in a:\n",
    "    if v % 2 ==0:\n",
    "        print(v,end=\" \")"
   ]
  },
  {
   "cell_type": "code",
   "execution_count": 2,
   "id": "e2cf2670-d41f-4011-9bee-da59615206af",
   "metadata": {},
   "outputs": [
    {
     "name": "stdout",
     "output_type": "stream",
     "text": [
      "[2, 4, 6, 8]\n"
     ]
    }
   ],
   "source": [
    "b = [1,2,3,4,5,6,7,8]\n",
    "filterObj = filter(lambda x : x % 2 == 0,b)\n",
    "print(list(filterObj))"
   ]
  },
  {
   "cell_type": "code",
   "execution_count": 10,
   "id": "eb7fe3f5-fff3-4d8c-be7b-b9c289ebb59a",
   "metadata": {},
   "outputs": [
    {
     "name": "stdout",
     "output_type": "stream",
     "text": [
      "Start\n",
      "10.0\n",
      "錯誤發生\n",
      "End\n"
     ]
    }
   ],
   "source": [
    "num1 = 10\n",
    "num2 = 1\n",
    "nums = [1,2,3,4]\n",
    "print(\"Start\")\n",
    "try:\n",
    "    print(num1 / num2)  \n",
    "    print(nums[9])\n",
    "except:    \n",
    "    print(\"錯誤發生\")\n",
    "print(\"End\")"
   ]
  },
  {
   "cell_type": "code",
   "execution_count": 16,
   "id": "ea3576ed-184a-43be-90d0-a9b2d01dc855",
   "metadata": {},
   "outputs": [
    {
     "name": "stdout",
     "output_type": "stream",
     "text": [
      "Start\n",
      "除法錯誤發生\n",
      "End\n"
     ]
    }
   ],
   "source": [
    "num1 = 10\n",
    "num2 = 0\n",
    "nums = [1,2,3,4]\n",
    "print(\"Start\")\n",
    "\n",
    "try:\n",
    "    print(num1 / num2) \n",
    "    print(nums[9])\n",
    "except IndexError:    \n",
    "    print(\"index錯誤發生\")\n",
    "except ZeroDivisionError:\n",
    "    print(\"除法錯誤發生\")\n",
    "print(\"End\")"
   ]
  },
  {
   "cell_type": "code",
   "execution_count": 20,
   "id": "056d73b0-4b5a-42ff-be8d-2529604a78a8",
   "metadata": {},
   "outputs": [
    {
     "name": "stdout",
     "output_type": "stream",
     "text": [
      "3\n",
      "2\n",
      "1\n",
      "完成\n"
     ]
    }
   ],
   "source": [
    "list1 = [1,2,3]\n",
    "print(list1.pop())\n",
    "print(list1.pop())\n",
    "print(list1.pop())\n",
    "try:\n",
    "    print(list1.pop())\n",
    "except IndexError:\n",
    "    print(\"完成\")\n"
   ]
  },
  {
   "cell_type": "code",
   "execution_count": 22,
   "id": "bb2b7ce2-9b78-4737-a597-286d15278b6e",
   "metadata": {},
   "outputs": [
    {
     "name": "stdout",
     "output_type": "stream",
     "text": [
      "3\n",
      "2\n",
      "1\n",
      "完成\n"
     ]
    }
   ],
   "source": [
    "list1 = [1,2,3]\n",
    "\n",
    "try:\n",
    "    while True:\n",
    "        print(list1.pop())\n",
    "except IndexError:\n",
    "    print(\"完成\")"
   ]
  },
  {
   "cell_type": "markdown",
   "id": "7382f06c-c63d-4343-8cb8-0a8407cf2e9d",
   "metadata": {},
   "source": [
    "## 物件導向入門"
   ]
  },
  {
   "cell_type": "code",
   "execution_count": 28,
   "id": "2ec43351-ef60-4cb9-ae47-41ff5b49aa24",
   "metadata": {},
   "outputs": [
    {
     "name": "stdout",
     "output_type": "stream",
     "text": [
      "name: Ken\n",
      "age: 15\n",
      "name: Lucy\n",
      "age: 20\n"
     ]
    }
   ],
   "source": [
    "class Student:\n",
    "    pass#避免出錯所以打pass\n",
    "st1 = Student()#建立物件\n",
    "st1.name = \"Ken\"#屬性 也就是人設\n",
    "st1.age = 15\n",
    "print(\"name:\",st1.name)\n",
    "print(\"age:\",st1.age)\n",
    "st2 = Student()\n",
    "st2.name = \"Lucy\"\n",
    "st2.age = 20\n",
    "print(\"name:\",st2.name)\n",
    "print(\"age:\",st2.age)"
   ]
  },
  {
   "cell_type": "code",
   "execution_count": null,
   "id": "79781c15-6e10-4924-818d-badf2850b15c",
   "metadata": {},
   "outputs": [],
   "source": []
  }
 ],
 "metadata": {
  "kernelspec": {
   "display_name": "Python 3 (ipykernel)",
   "language": "python",
   "name": "python3"
  },
  "language_info": {
   "codemirror_mode": {
    "name": "ipython",
    "version": 3
   },
   "file_extension": ".py",
   "mimetype": "text/x-python",
   "name": "python",
   "nbconvert_exporter": "python",
   "pygments_lexer": "ipython3",
   "version": "3.11.9"
  }
 },
 "nbformat": 4,
 "nbformat_minor": 5
}
