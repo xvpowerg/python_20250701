{
 "cells": [
  {
   "cell_type": "code",
   "execution_count": 4,
   "id": "272328f1-c8d4-44fc-943d-f15fda945c2e",
   "metadata": {},
   "outputs": [
    {
     "name": "stdout",
     "output_type": "stream",
     "text": [
      "12345\n"
     ]
    }
   ],
   "source": [
    "print(12345)#輸出純數字"
   ]
  },
  {
   "cell_type": "code",
   "execution_count": 6,
   "id": "01159cbd-c0a9-431e-acc1-99341d384ab8",
   "metadata": {},
   "outputs": [
    {
     "name": "stdout",
     "output_type": "stream",
     "text": [
      "Ken\n"
     ]
    }
   ],
   "source": [
    "print(\"Ken\") #輸出文字"
   ]
  },
  {
   "cell_type": "code",
   "execution_count": 6,
   "id": "de529d1e-b0fb-47f0-9f2b-f5d9949397a2",
   "metadata": {},
   "outputs": [
    {
     "name": "stdout",
     "output_type": "stream",
     "text": [
      "a\n",
      "28\n"
     ]
    }
   ],
   "source": [
    "a=28\n",
    "print(\"a\")\n",
    "print(a)"
   ]
  },
  {
   "cell_type": "code",
   "execution_count": 8,
   "id": "211516dd-7254-46e8-8735-b4cdcb8b0f87",
   "metadata": {},
   "outputs": [
    {
     "name": "stdout",
     "output_type": "stream",
     "text": [
      "Hello!\n",
      "你好\n"
     ]
    }
   ],
   "source": [
    "你好=\"Hello!\"\n",
    "print(你好)\n",
    "print(\"你好\")"
   ]
  },
  {
   "cell_type": "code",
   "execution_count": 9,
   "id": "32b64aa1-024f-4395-aa71-0fc131cf119b",
   "metadata": {},
   "outputs": [],
   "source": [
    "#數字的類型\n",
    "#整數 int 12567 \n",
    "#浮點數 float 3.1415  2.71828\n",
    "#其他類型\n",
    "#文字 str \"你好\" 'Ken'\n",
    "#布林 bool False True\n",
    "#自訂"
   ]
  },
  {
   "cell_type": "code",
   "execution_count": 17,
   "id": "70313a0e-b397-4190-9128-05e43acc83c8",
   "metadata": {},
   "outputs": [
    {
     "name": "stdout",
     "output_type": "stream",
     "text": [
      "10 3.14 test\n"
     ]
    }
   ],
   "source": [
    "a = 10\n",
    "b = 3.14\n",
    "c = 'test'\n",
    "print(a,b,c)"
   ]
  },
  {
   "cell_type": "code",
   "execution_count": 19,
   "id": "68bd04f5-0872-4361-8ba3-698c3d6b2199",
   "metadata": {},
   "outputs": [
    {
     "name": "stdout",
     "output_type": "stream",
     "text": [
      "50 2.71 Hello\n"
     ]
    }
   ],
   "source": [
    "a,b,c=50,2.71,\"Hello\"\n",
    "print(a,b,c)"
   ]
  },
  {
   "cell_type": "code",
   "execution_count": 24,
   "id": "d563edf4-5bd4-464b-9214-094babd9eb76",
   "metadata": {},
   "outputs": [
    {
     "name": "stdout",
     "output_type": "stream",
     "text": [
      "30 20\n",
      "20 30\n"
     ]
    }
   ],
   "source": [
    "#交換\n",
    "x = 30\n",
    "y = 20\n",
    "print(x,y)\n",
    "#數字交換\n",
    "a1 = x\n",
    "x = y\n",
    "y = a1\n",
    "print(x,y)#20,10"
   ]
  },
  {
   "cell_type": "code",
   "execution_count": 25,
   "id": "5e9fcdaa-f0ff-4c05-a612-c304b16c384c",
   "metadata": {},
   "outputs": [
    {
     "name": "stdout",
     "output_type": "stream",
     "text": [
      "9 7\n",
      "7 9\n"
     ]
    }
   ],
   "source": [
    "r=9\n",
    "u=7\n",
    "print(r,u)\n",
    "r,u = u,r\n",
    "print(r,u)"
   ]
  },
  {
   "cell_type": "code",
   "execution_count": 26,
   "id": "d8b70e49-6259-4094-978c-ebfadb9866e4",
   "metadata": {},
   "outputs": [
    {
     "name": "stdout",
     "output_type": "stream",
     "text": [
      "Ken年齡:\n"
     ]
    }
   ],
   "source": [
    "year = 28\n",
    "name = \"Ken\"\n",
    "title = \"年齡:\"\n",
    "msg = name + title#+文字串接\n",
    "print(msg)"
   ]
  },
  {
   "cell_type": "code",
   "execution_count": 28,
   "id": "1185680b-4316-4eeb-85f6-7a5b09b02c0b",
   "metadata": {},
   "outputs": [
    {
     "name": "stdout",
     "output_type": "stream",
     "text": [
      "Ken年齡:28\n"
     ]
    }
   ],
   "source": [
    "year = 28\n",
    "name = \"Ken\"\n",
    "title = \"年齡:\"\n",
    "msg = name + title + str(year)#+文字串接\n",
    "print(msg)"
   ]
  },
  {
   "cell_type": "code",
   "execution_count": 31,
   "id": "a3059fc2-58ac-4f75-82b9-26f2a7556c0b",
   "metadata": {},
   "outputs": [
    {
     "name": "stdout",
     "output_type": "stream",
     "text": [
      "14\n",
      "6\n",
      "40\n",
      "2.5\n",
      "2\n"
     ]
    }
   ],
   "source": [
    "a,b = 10,4\n",
    "print(a+b)\n",
    "print(a-b)\n",
    "print(a*b)\n",
    "print(a/b)#有小數點\n",
    "print(a//b)#無小數點"
   ]
  },
  {
   "cell_type": "code",
   "execution_count": 33,
   "id": "7679e849-12c9-4115-9e5f-96c99e531352",
   "metadata": {},
   "outputs": [
    {
     "name": "stdout",
     "output_type": "stream",
     "text": [
      "4\n",
      "1\n"
     ]
    }
   ],
   "source": [
    "print(9 % 5)#餘數\n",
    "print(9 // 5)#求商數"
   ]
  },
  {
   "cell_type": "code",
   "execution_count": 53,
   "id": "faacb593-4c98-4179-b16f-5814a07e30e9",
   "metadata": {},
   "outputs": [
    {
     "name": "stdin",
     "output_type": "stream",
     "text": [
      "輸入數字 10\n"
     ]
    },
    {
     "name": "stdout",
     "output_type": "stream",
     "text": [
      "10\n",
      "<class 'str'>\n",
      "30\n"
     ]
    }
   ],
   "source": [
    "#輸入\n",
    "a = input(\"輸入數字\")\n",
    "print(a)\n",
    "print(type(a))\n",
    "ans = int(a)+ 20\n",
    "print(ans)"
   ]
  },
  {
   "cell_type": "markdown",
   "id": "5855acce-a194-4b36-8e88-70b0461b1782",
   "metadata": {},
   "source": [
    "## 作業"
   ]
  },
  {
   "cell_type": "code",
   "execution_count": null,
   "id": "08ba7afe-f2e6-448c-9381-e8b42041a616",
   "metadata": {},
   "outputs": [],
   "source": [
    "a,b = 5,2\n",
    "# a 與 b的四則運算 + - * / //\n",
    "\n",
    "\n"
   ]
  }
 ],
 "metadata": {
  "kernelspec": {
   "display_name": "Python 3 (ipykernel)",
   "language": "python",
   "name": "python3"
  },
  "language_info": {
   "codemirror_mode": {
    "name": "ipython",
    "version": 3
   },
   "file_extension": ".py",
   "mimetype": "text/x-python",
   "name": "python",
   "nbconvert_exporter": "python",
   "pygments_lexer": "ipython3",
   "version": "3.11.9"
  }
 },
 "nbformat": 4,
 "nbformat_minor": 5
}
