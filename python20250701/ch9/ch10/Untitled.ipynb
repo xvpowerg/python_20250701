{
 "cells": [
  {
   "cell_type": "code",
   "execution_count": 3,
   "id": "6dcc9163-6fd0-4820-8e04-bd9d0f454285",
   "metadata": {},
   "outputs": [],
   "source": [
    "text = \"\"\"python與中文AAA\n",
    "1. 我們來試試看中文儲存能力。\n",
    "2. 許這個字會有編碼衝突風險。\n",
    "3. 犇這個字必須是utf8編碼才有。\n",
    "\"\"\"\n",
    "print(text,file=open(\"data.txt\",\"w\",encoding=\"utf-8\"))#w write 寫\n"
   ]
  },
  {
   "cell_type": "code",
   "execution_count": 6,
   "id": "d07731c3-a545-4625-b41e-bf04abd4ca75",
   "metadata": {},
   "outputs": [
    {
     "name": "stdout",
     "output_type": "stream",
     "text": [
      "python與中文AAA\n",
      "1. 我們來試試看中文儲存能力。\n",
      "2. 許這個字會有編碼衝突風險。\n",
      "3. 犇這個字必須是utf8編碼才有。\n",
      "\n",
      "\n"
     ]
    }
   ],
   "source": [
    "f = open(\"data.txt\",\"r\",encoding=\"utf-8\")#r read 讀\n",
    "content = f.read()\n",
    "print(content)"
   ]
  },
  {
   "cell_type": "code",
   "execution_count": 7,
   "id": "10ee8d29-4818-4cef-94d0-659826931bb9",
   "metadata": {},
   "outputs": [
    {
     "name": "stdout",
     "output_type": "stream",
     "text": [
      "C:\\Users\\xvpow\\python20250701\\ch10\n"
     ]
    }
   ],
   "source": [
    "import os\n",
    "print(os.getcwd())#輸出目前程式所在資料夾"
   ]
  },
  {
   "cell_type": "code",
   "execution_count": 8,
   "id": "728253be-1e15-4a65-bfc7-0565ccc7268c",
   "metadata": {},
   "outputs": [
    {
     "name": "stdout",
     "output_type": "stream",
     "text": [
      "Hello!!\n"
     ]
    }
   ],
   "source": [
    "import show\n",
    "show.showValue()"
   ]
  },
  {
   "cell_type": "code",
   "execution_count": 13,
   "id": "c79a969a-eba4-4f83-bc1c-8269de871849",
   "metadata": {},
   "outputs": [
    {
     "name": "stdout",
     "output_type": "stream",
     "text": [
      "<class 'str'>\n",
      "<class 'dict'>\n",
      "{'python': 'good', 'gjun': 100, 'python-class': True, 'ICQ': None}\n",
      "good\n",
      "python good\n",
      "gjun 100\n",
      "python-class True\n",
      "ICQ None\n"
     ]
    }
   ],
   "source": [
    "import json\n",
    "json1 = '{\"python\":\"good\",\"gjun\":100,\"python-class\":true,\"ICQ\":null}'\n",
    "print(type(json1))\n",
    "json2Dict = json.loads(json1)\n",
    "print(type(json2Dict))\n",
    "print(json2Dict)\n",
    "\n",
    "print(json2Dict[\"python\"])\n",
    "\n",
    "for k in json2Dict:\n",
    "    print(k,json2Dict[k])"
   ]
  },
  {
   "cell_type": "code",
   "execution_count": null,
   "id": "0113e590-0ec8-4238-94f2-5a76f43aa1c2",
   "metadata": {},
   "outputs": [],
   "source": []
  }
 ],
 "metadata": {
  "kernelspec": {
   "display_name": "Python 3 (ipykernel)",
   "language": "python",
   "name": "python3"
  },
  "language_info": {
   "codemirror_mode": {
    "name": "ipython",
    "version": 3
   },
   "file_extension": ".py",
   "mimetype": "text/x-python",
   "name": "python",
   "nbconvert_exporter": "python",
   "pygments_lexer": "ipython3",
   "version": "3.11.9"
  }
 },
 "nbformat": 4,
 "nbformat_minor": 5
}
