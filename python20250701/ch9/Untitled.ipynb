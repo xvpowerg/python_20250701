{
 "cells": [
  {
   "cell_type": "code",
   "execution_count": 4,
   "id": "7f30857f-4d79-4750-b764-299f384579d4",
   "metadata": {},
   "outputs": [
    {
     "name": "stdout",
     "output_type": "stream",
     "text": [
      "Ken\n",
      "18\n",
      "96\n"
     ]
    }
   ],
   "source": [
    "class Student:\n",
    "    pass\n",
    "st1 = Student()    \n",
    "st1.name = \"Ken\"\n",
    "st1.age = 18\n",
    "st1.score = 96\n",
    "print(st1.name)\n",
    "print(st1.age)\n",
    "print(st1.score)"
   ]
  },
  {
   "cell_type": "code",
   "execution_count": 7,
   "id": "d7d067ce-c69b-4171-b178-48a8b409f7cd",
   "metadata": {},
   "outputs": [
    {
     "name": "stdout",
     "output_type": "stream",
     "text": [
      "Ken 18 75\n"
     ]
    }
   ],
   "source": [
    "class Student:\n",
    "    def __init__(self,name,age=15,score=0):\n",
    "        #print(\"__init__\")\n",
    "        self.name = name\n",
    "        self.age = age\n",
    "        self.score = score\n",
    "st1 = Student(\"Ken\",18,75)        \n",
    "print(st1.name,st1.age,st1.score)"
   ]
  },
  {
   "cell_type": "code",
   "execution_count": 8,
   "id": "885279f2-33bd-4aef-a005-b7d832a01553",
   "metadata": {},
   "outputs": [
    {
     "name": "stdout",
     "output_type": "stream",
     "text": [
      "Ken 18 75\n",
      "Lucy 22 85\n"
     ]
    }
   ],
   "source": [
    "class Student:\n",
    "    def __init__(self,name,age=15,score=0):\n",
    "        #print(\"__init__\")\n",
    "        self.name = name\n",
    "        self.age = age\n",
    "        self.score = score\n",
    "    def printInfo(self):  \n",
    "        print(self.name,self.age,self.score)\n",
    "st1 = Student(\"Ken\",18,75)        \n",
    "st2 = Student(\"Lucy\",22,85)\n",
    "st1.printInfo()\n",
    "st2.printInfo()"
   ]
  },
  {
   "cell_type": "code",
   "execution_count": 9,
   "id": "cfb97ffa-90ac-4e40-859a-f5880e2b474d",
   "metadata": {},
   "outputs": [
    {
     "name": "stdout",
     "output_type": "stream",
     "text": [
      "314.15000000000003\n"
     ]
    }
   ],
   "source": [
    "class Circle:#請幫我設定 半徑 並計算圓面積\n",
    "    def __init__(self,r):\n",
    "        self.r = r\n",
    "    def area(self):\n",
    "        pi = 3.1415\n",
    "        a = pi * self.r ** 2\n",
    "        return a\n",
    "#pi* r ** 2     \n",
    "#3.1415*100\n",
    "c1 = Circle(10)#314.15\n",
    "print(c1.area())"
   ]
  },
  {
   "cell_type": "code",
   "execution_count": 10,
   "id": "e2b4d426-532b-443d-9792-6f4acf0730ea",
   "metadata": {},
   "outputs": [
    {
     "name": "stdout",
     "output_type": "stream",
     "text": [
      "<__main__.Point object at 0x000002AD53D39890>\n",
      "<__main__.Point object at 0x000002AD53D39510>\n"
     ]
    }
   ],
   "source": [
    "class Point:\n",
    "    def __init__(self,x=0,y=0):\n",
    "        self.x = x\n",
    "        self.y = y\n",
    "p1 = Point(2,3)        \n",
    "p2 = Point(-1,2)\n",
    "print(p1)#(2,3)\n",
    "print(p2)#(-1,2)\n",
    "        "
   ]
  },
  {
   "cell_type": "code",
   "execution_count": 13,
   "id": "4252a525-ea07-472f-aca0-f69569b5fa09",
   "metadata": {},
   "outputs": [
    {
     "name": "stdout",
     "output_type": "stream",
     "text": [
      "(2,3)\n",
      "(-1,2)\n"
     ]
    }
   ],
   "source": [
    "class Point:\n",
    "    def __init__(self,x=0,y=0):\n",
    "        self.x = x\n",
    "        self.y = y\n",
    "    def __str__(self):\n",
    "        return f\"({self.x},{self.y})\"\n",
    "p1 = Point(2,3)        \n",
    "p2 = Point(-1,2)\n",
    "print(p1)#(2,3)\n",
    "print(p2)#(-1,2)\n"
   ]
  },
  {
   "cell_type": "code",
   "execution_count": 25,
   "id": "7c00bb59-b8fa-40a9-8169-f8f2cb83dc37",
   "metadata": {},
   "outputs": [
    {
     "name": "stdout",
     "output_type": "stream",
     "text": [
      "name:Ken age:30\n",
      "name:Iris age:30\n",
      "False\n",
      "True\n"
     ]
    }
   ],
   "source": [
    "class Employee:\n",
    "    def __init__(self,name,age):\n",
    "        self.name = name\n",
    "        self.age = age\n",
    "    def __str__(self):\n",
    "       return f\"name:{self.name} age:{self.age}\"\n",
    "    def __lt__(self,other):    \n",
    "        return self.age < other.age\n",
    "    def __eq__(self,other):    \n",
    "        return self.age == other.age\n",
    "e1 = Employee(\"Ken\",30)\n",
    "e2 = Employee(\"Iris\",30)\n",
    "print(e1)\n",
    "print(e2)\n",
    "print(e1 < e2)\n",
    "print(e1 == e2)"
   ]
  },
  {
   "cell_type": "code",
   "execution_count": 31,
   "id": "fb4dd148-d850-4ed2-8495-9f1967ac1557",
   "metadata": {},
   "outputs": [
    {
     "name": "stdout",
     "output_type": "stream",
     "text": [
      "name:A1 price:100 name:B2 price:80 name:C3 price:95 name:D4 price:73\n",
      "[1, 2, 3, 5, 7]\n",
      "name:D4 price:73\n",
      "name:B2 price:80\n",
      "name:C3 price:95\n",
      "name:A1 price:100\n"
     ]
    }
   ],
   "source": [
    "class Item:\n",
    "    def __init__(self,name,price):\n",
    "        self.name = name\n",
    "        self.price = price\n",
    "    def __str__(self):\n",
    "        return f\"name:{self.name} price:{self.price}\"\n",
    "    def __lt__(self,other):    \n",
    "        return self.price < other.price\n",
    "i1 = Item(\"A1\",100)        \n",
    "i2 = Item(\"B2\",80)        \n",
    "i3 = Item(\"C3\",95)        \n",
    "i4 = Item(\"D4\",73)       \n",
    "print(i1,i2,i3,i4)\n",
    "\n",
    "myList = [5,7,1,3,2]\n",
    "myList.sort()\n",
    "print(myList)\n",
    "\n",
    "itemList = [i1,i2,i3,i4]\n",
    "itemList.sort()\n",
    "for it in itemList:\n",
    "    print(it)"
   ]
  },
  {
   "cell_type": "markdown",
   "id": "75a39ed4-34c3-421e-87ab-0d1ebaed8681",
   "metadata": {},
   "source": [
    "## suno 歌詞\n",
    "\n",
    "[Verse1]\r\n",
    "我是一隻熊貓　懶懶躺在床\r\n",
    "不想出門走走　只想繼續裝忙\r\n",
    "窗外陽光照進來　我翻個身就躲開\r\n",
    "夢裡還在吃著竹　嘴角流著笑開懷\r\n",
    "\r\n",
    "[Chorus]\r\n",
    "我愛睡　別吵我\r\n",
    "抱著枕頭好好過\r\n",
    "愛做夢　不想說\r\n",
    "熊貓的世界很寬闊\r\n",
    "呼呼聲像旋律　輕輕搖我入眠去\r\n",
    "我愛睡　愛夢境　請讓我繼續飛行\r\n",
    "\r\n",
    "[Verse2]\r\n",
    "朋友約我吃飯　我卻還在打哈欠\r\n",
    "手機震了一整晚　我還沒起床看\r\n",
    "別人都去上班　我躲棉被耍賴\r\n",
    "睡一覺到自然醒　才是我的節拍\r\n",
    "\r\n",
    "[Chorus]\r\n",
    "我愛睡　別吵我\r\n",
    "抱著枕頭好好過\r\n",
    "愛做夢　不想說\r\n",
    "熊貓的世界很寬闊\r\n",
    "呼呼聲像旋律　輕輕搖我入眠去\r\n",
    "我愛睡　愛夢境　請讓我繼續飛行\r\n",
    "\r\n",
    "[Ending]\r\n",
    "夢裡天空藍藍　有甜竹等我嚐\r\n",
    "愛睡不是偷懶　只是夢太浪漫～\r\n",
    "\r\n"
   ]
  },
  {
   "cell_type": "code",
   "execution_count": null,
   "id": "7cd2e2c0-6055-48dd-b2a2-6be484ce4033",
   "metadata": {},
   "outputs": [],
   "source": []
  }
 ],
 "metadata": {
  "kernelspec": {
   "display_name": "Python 3 (ipykernel)",
   "language": "python",
   "name": "python3"
  },
  "language_info": {
   "codemirror_mode": {
    "name": "ipython",
    "version": 3
   },
   "file_extension": ".py",
   "mimetype": "text/x-python",
   "name": "python",
   "nbconvert_exporter": "python",
   "pygments_lexer": "ipython3",
   "version": "3.11.9"
  }
 },
 "nbformat": 4,
 "nbformat_minor": 5
}
